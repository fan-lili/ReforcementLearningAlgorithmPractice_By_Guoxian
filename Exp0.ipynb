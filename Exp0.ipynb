{
 "cells": [
  {
   "cell_type": "code",
   "execution_count": 1,
   "id": "9b7ba325",
   "metadata": {},
   "outputs": [],
   "source": [
    "# 实现ε-greedy、玻尔兹曼策略和UCB策略来平衡利用和探索\n",
    "# 测试实例是摇动3个赌博机\n",
    "import numpy as np\n",
    "import matplotlib.pyplot as plt"
   ]
  },
  {
   "cell_type": "code",
   "execution_count": 2,
   "id": "b23bb25a",
   "metadata": {},
   "outputs": [],
   "source": [
    "class KB_Game:\n",
    "    def __init__(self, *args, **kwargs):\n",
    "        self.q = np.array([0.0, 0.0, 0.0])     # 每个臂的平均回报\n",
    "        self.action_counts = np.array([0,0,0])   # 摇动每个臂的次数\n",
    "        self.current_cumulative_rewards = 0.0    # 当前累计回报\n",
    "        self.actions = [1,2,3]     # 分别代表摇动3个不同的臂\n",
    "        self.couts = 0   # 玩的次数\n",
    "        self.couts_history = []\n",
    "        self.cumulative_rewards_history = []\n",
    "        self.a = 1\n",
    "        self.reward = 0.0\n",
    "    \n",
    "    def step(self, a):\n",
    "        '''模拟多臂赌博机的回报'''\n",
    "        r = 0\n",
    "        if a == 1:\n",
    "            r = np.random.normal(1,1)\n",
    "        if a == 2:\n",
    "            r = np.random.normal(2,1)\n",
    "        if a == 3:\n",
    "            r = np.random.normal(1.5,1)\n",
    "        return r\n",
    "    \n",
    "    def choose_action(self, policy, **kwargs):\n",
    "        if policy == 'e_greedy':\n",
    "            if np.random.random() < kwargs['epsilon']:\n",
    "                action = np.random.randint(1,4)\n",
    "            else:\n",
    "                action = np.argmax(self.q) + 1\n",
    "        if policy == 'ucb':\n",
    "            c_ratio = kwargs['c_ratio']\n",
    "            if 0 in self.action_counts:\n",
    "                action = np.where(self.action_counts==0)[0][0] + 1\n",
    "            else:\n",
    "                value = self.q + c_ratio*np.sqrt(np.log(self.couts) / self.action_counts)\n",
    "                action = np.argmax(value) + 1\n",
    "        if policy == 'boltzmann':\n",
    "            tau = kwargs['tau']\n",
    "            p = np.exp(self.q/tau)/(np.sum(np.exp(self.q/tau)))\n",
    "            action = np.random.choice([1,2,3], p = p.ravel())\n",
    "        return action\n",
    "    \n",
    "    def train(self, play_total, policy, **kwargs):\n",
    "        reward_1 = []\n",
    "        reward_2 = []\n",
    "        reward_3 = []\n",
    "        \n",
    "        for i in range(play_total):\n",
    "            action = 0\n",
    "            if policy == 'e_greedy':\n",
    "                action = self.choose_action(policy, epsilon=kwargs['epsilon'])\n",
    "            if policy == 'ucb':\n",
    "                action = self.choose_action(policy, c_ratio = kwargs['c_ratio'])\n",
    "            if policy == 'boltzmann':\n",
    "                action = self.choose_action(policy, tau = kwargs['tau'])\n",
    "            self.a = action\n",
    "            \n",
    "            self.r = self.step(self.a)\n",
    "            self.couts += 1\n",
    "            \n",
    "            # 更新值函数\n",
    "            self.q[self.a-1] = (self.q[self.a-1]*self.action_counts[self.a-1]+self.r) / (self.action_counts[self.a-1]+1)\n",
    "            reward_1.append([self.q[0]])\n",
    "            reward_2.append([self.q[1]])\n",
    "            reward_3.append([self.q[2]])\n",
    "            self.current_cumulative_rewards += self.r\n",
    "            self.cumulative_rewards_history.append(self.current_cumulative_rewards)\n",
    "            self.couts_history.append(i)\n",
    "    \n",
    "    def reset(self):\n",
    "        self.q = np.array([0.0, 0.0, 0.0])\n",
    "        self.action_counts = np.array([0,0,0])\n",
    "        self.current_cumulative_rewards = 0.0\n",
    "        self.couts = 0\n",
    "        self.couts_history = []\n",
    "        self.cumulative_rewards_history = []\n",
    "        self.a = 1\n",
    "        self.reward = 0.0\n",
    "    \n",
    "    def plot(self, colors, policy):\n",
    "        plt.plot(self.couts_history, self.cumulative_rewards_history, colors, label=policy)\n",
    "        plt.legend()\n",
    "        plt.xlabel('n', fontsize=18)\n",
    "        plt.ylabel('total reward', fontsize=18) "
   ]
  },
  {
   "cell_type": "code",
   "execution_count": 3,
   "id": "d16fe4c6",
   "metadata": {},
   "outputs": [
    {
     "data": {
      "image/png": "[encoded data removed]",
      "text/plain": [
       "<Figure size 432x288 with 1 Axes>"
      ]
     },
     "metadata": {
      "needs_background": "light"
     },
     "output_type": "display_data"
    }
   ],
   "source": [
    "np.random.seed(0)\n",
    "k_gamble = KB_Game()\n",
    "plt.figure()\n",
    "    \n",
    "total = 2000\n",
    "k_gamble.train(play_total=total, policy='e_greedy', epsilon=0.05)\n",
    "k_gamble.plot(colors='r', policy='e_greedy')\n",
    "k_gamble.reset()\n",
    "k_gamble.train(play_total=total, policy='ucb', c_ratio=0.5)\n",
    "k_gamble.plot(colors='b', policy='ucb')\n",
    "k_gamble.reset()\n",
    "k_gamble.train(play_total=total, policy='boltzmann', tau=1)\n",
    "k_gamble.plot(colors='g', policy='boltzmann')\n",
    "plt.show()"
   ]
  }
 ],
 "metadata": {
  "kernelspec": {
   "display_name": "Python 3 (ipykernel)",
   "language": "python",
   "name": "python3"
  },
  "language_info": {
   "codemirror_mode": {
    "name": "ipython",
    "version": 3
   },
   "file_extension": ".py",
   "mimetype": "text/x-python",
   "name": "python",
   "nbconvert_exporter": "python",
   "pygments_lexer": "ipython3",
   "version": "3.9.9"
  }
 },
 "nbformat": 4,
 "nbformat_minor": 5
}
