{
 "cells": [
  {
   "cell_type": "code",
   "execution_count": 1,
   "id": "82e1cd12",
   "metadata": {},
   "outputs": [
    {
     "name": "stdout",
     "output_type": "stream",
     "text": [
      "pygame 2.1.2 (SDL 2.0.18, Python 3.9.9)\n",
      "Hello from the pygame community. https://www.pygame.org/contribute.html\n"
     ]
    }
   ],
   "source": [
    "# 值迭代\n",
    "import random\n",
    "import time\n",
    "from yuanyangEnv import YuanYangEnv"
   ]
  },
  {
   "cell_type": "code",
   "execution_count": 2,
   "id": "9a1493f7",
   "metadata": {},
   "outputs": [],
   "source": [
    "class DP_ValueIter:\n",
    "    def __init__(self,yuanyang):\n",
    "        self.states = yuanyang.states\n",
    "        self.actions = yuanyang.actions\n",
    "        self.v = [0.0 for i in range(len(self.states)+1)]\n",
    "        self.pi = dict()    # 策略\n",
    "        self.yuanyang = yuanyang\n",
    "        self.gamma = yuanyang.gamma\n",
    "\n",
    "        # 初始化策略\n",
    "        for state in self.states:\n",
    "            flag1 = 0\n",
    "            flag2 = 0\n",
    "            flag1 = yuanyang.collide(yuanyang.state_to_position(state))\n",
    "            flag2 = yuanyang.find(yuanyang.state_to_position(state))\n",
    "            if flag1 == 1 or flag2 == 1:\n",
    "                continue\n",
    "            self.pi[state] = self.actions[int(random.random() * len(self.actions))]  # 每个状态下随机选取一个动作\n",
    "\n",
    "    def value_iteration(self):\n",
    "        # 值迭代\n",
    "        for i in range(1000):\n",
    "            delta = 0.0\n",
    "            for state in self.states:\n",
    "                flag1 = 0\n",
    "                flag2 = 0\n",
    "                flag1 = yuanyang.collide(yuanyang.state_to_position(state))\n",
    "                flag2 = yuanyang.find(yuanyang.state_to_position(state))\n",
    "                if flag1 == 1 or flag2 == 1:\n",
    "                    continue\n",
    "                    \n",
    "                a1 = self.actions[int(random.random() * 4)]  # 随机选取一个动作\n",
    "                s, r, t = yuanyang.transform(state, a1)\n",
    "                \n",
    "                # 策略评估\n",
    "                v1 = r + self.gamma * self.v[s]\n",
    "                \n",
    "                # 策略改善\n",
    "                for action in self.actions:\n",
    "                    s, r, t = yuanyang.transform(state, action)\n",
    "                    if v1 < r + self.gamma * self.v[s]:\n",
    "                        a1 = action\n",
    "                        v1 = r + self.gamma * self.v[s]\n",
    "                delta += abs(self.v[state] - v1)\n",
    "                \n",
    "                self.pi[state] = a1  # 直接对策略进行更新，不像策略迭代要等到值函数收敛\n",
    "                self.v[state] = v1\n",
    "            if delta < 1e-06:\n",
    "                print('策略评估迭代次数:',i)\n",
    "                break"
   ]
  },
  {
   "cell_type": "code",
   "execution_count": null,
   "id": "774077b9",
   "metadata": {},
   "outputs": [
    {
     "name": "stdout",
     "output_type": "stream",
     "text": [
      "策略评估迭代次数: 14\n",
      "0->s\t\n",
      "10->e\t\n",
      "11->e\t\n",
      "12->s\t\n",
      "22->s\t\n",
      "32->s\t\n",
      "42->e\t\n",
      "43->s\t\n",
      "53->e\t\n",
      "54->e\t\n",
      "55->e\t\n",
      "56->e\t\n",
      "57->n\t\n",
      "47->e\t\n",
      "48->n\t\n",
      "38->n\t\n",
      "28->e\t\n",
      "29->n\t\n",
      "19->n\t\n"
     ]
    }
   ],
   "source": [
    "yuanyang = YuanYangEnv()\n",
    "policy_value = DP_ValueIter(yuanyang)\n",
    "policy_value.value_iteration()\n",
    "flag = 1\n",
    "s = 0\n",
    "path = []\n",
    "\n",
    "# 将v值打印出来\n",
    "for state in range(100):\n",
    "    i = int(state / 10)\n",
    "    j = state % 10\n",
    "    yuanyang.value[j, i] = policy_value.v[state]\n",
    "step_num = 0\n",
    "\n",
    "# 将最优路径打印出来\n",
    "while flag:\n",
    "    # 渲染路径点\n",
    "    path.append(s)\n",
    "    yuanyang.path = path\n",
    "    a = policy_value.pi[s]\n",
    "    print('%d->%s\\t' % (s, a))\n",
    "    yuanyang.bird_male_position = yuanyang.state_to_position(s)\n",
    "    yuanyang.render()\n",
    "    time.sleep(0.2)\n",
    "    step_num += 1\n",
    "    s_, r, t = yuanyang.transform(s, a)\n",
    "    if t == True or step_num > 200:\n",
    "        flag = 0\n",
    "    s = s_\n",
    "    \n",
    "# 渲染最后的路径点\n",
    "yuanyang.bird_male_position = yuanyang.state_to_position(s)\n",
    "path.append(s)\n",
    "yuanyang.render()\n",
    "while True:\n",
    "    yuanyang.render()"
   ]
  }
 ],
 "metadata": {
  "kernelspec": {
   "display_name": "Python 3 (ipykernel)",
   "language": "python",
   "name": "python3"
  },
  "language_info": {
   "codemirror_mode": {
    "name": "ipython",
    "version": 3
   },
   "file_extension": ".py",
   "mimetype": "text/x-python",
   "name": "python",
   "nbconvert_exporter": "python",
   "pygments_lexer": "ipython3",
   "version": "3.9.9"
  }
 },
 "nbformat": 4,
 "nbformat_minor": 5
}
